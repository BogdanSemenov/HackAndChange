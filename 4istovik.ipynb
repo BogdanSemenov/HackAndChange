{
 "cells": [
  {
   "cell_type": "code",
   "execution_count": 393,
   "metadata": {},
   "outputs": [],
   "source": [
    "import pandas as pd\n",
    "\n",
    "data = pd.read_excel('data_set.xlsx')"
   ]
  },
  {
   "cell_type": "code",
   "execution_count": 394,
   "metadata": {},
   "outputs": [],
   "source": [
    "def replace_binary_value(b):\n",
    "    if b and pd.notnull(b):\n",
    "        return 1\n",
    "    else:\n",
    "        return -1\n",
    "\n",
    "data.iloc[:, 12:16] = data.iloc[:, 12:16].agg(lambda row: row.agg(replace_binary_value, axis=0), axis=1)\n",
    "data_kal_obl = data[data['REGION'] == 'Калужская область']\n",
    "data_tul_obl = data[data['REGION'] == 'Тульская область']"
   ]
  },
  {
   "cell_type": "code",
   "execution_count": 395,
   "metadata": {},
   "outputs": [],
   "source": [
    "import seaborn as sns\n",
    "\n",
    "#sns.pairplot(data_kal_obl.iloc[:, 3:17])"
   ]
  },
  {
   "cell_type": "code",
   "execution_count": 396,
   "metadata": {},
   "outputs": [],
   "source": [
    "data_kaluga = data_kal_obl[data_kal_obl['CITY'] == 'КАЛУГА']\n",
    "data_tula = data_tul_obl[data_tul_obl['CITY'] == 'ТУЛА']\n",
    "data_kal_obl = data_kal_obl[data_kal_obl['CITY'] != 'КАЛУГА']\n",
    "data_tul_obl = data_tul_obl[data_tul_obl['CITY'] != 'ТУЛА']"
   ]
  },
  {
   "cell_type": "code",
   "execution_count": 397,
   "metadata": {},
   "outputs": [],
   "source": [
    "X = data_kaluga[data_kaluga['cashbox_daily'].notnull()].iloc[:, 6:18]"
   ]
  },
  {
   "cell_type": "code",
   "execution_count": 398,
   "metadata": {},
   "outputs": [
    {
     "name": "stdout",
     "output_type": "stream",
     "text": [
      "<class 'pandas.core.frame.DataFrame'>\n",
      "Int64Index: 57 entries, 0 to 239\n",
      "Data columns (total 11 columns):\n",
      "cashbox_MAX                57 non-null float64\n",
      "cashbox_trend              55 non-null float64\n",
      "hh_500                     57 non-null float64\n",
      "value1                     57 non-null int64\n",
      "value2                     57 non-null int64\n",
      "POPULATION                 57 non-null int64\n",
      "NEAR_Malls                 57 non-null int64\n",
      "NEAR_Business_centers      57 non-null int64\n",
      "NEAR_metro_rjd             57 non-null int64\n",
      "NEAR_Stations              57 non-null int64\n",
      "macro_salary_avg_yearly    57 non-null int64\n",
      "dtypes: float64(3), int64(8)\n",
      "memory usage: 5.3 KB\n"
     ]
    }
   ],
   "source": [
    "X.info()"
   ]
  },
  {
   "cell_type": "code",
   "execution_count": 399,
   "metadata": {},
   "outputs": [],
   "source": [
    "del X['POPULATION']\n",
    "del X['macro_salary_avg_yearly']"
   ]
  },
  {
   "cell_type": "code",
   "execution_count": 400,
   "metadata": {},
   "outputs": [],
   "source": [
    "import numpy as np\n",
    "\n",
    "X.fillna(0, inplace=True)\n",
    "X = (X - X.mean()) / X.std()"
   ]
  },
  {
   "cell_type": "code",
   "execution_count": 401,
   "metadata": {},
   "outputs": [],
   "source": [
    "from sklearn.linear_model import LinearRegression, Ridge, Lasso\n",
    "from sklearn.model_selection import train_test_split \n",
    "from sklearn.metrics import mean_absolute_error as mae, mean_squared_error as mse\n",
    "\n",
    "lasso = Lasso(0.05)\n",
    "ridge = Ridge()\n",
    "lin_reg = LinearRegression()"
   ]
  },
  {
   "cell_type": "code",
   "execution_count": 402,
   "metadata": {},
   "outputs": [],
   "source": [
    "y = data_kaluga[data_kaluga['cashbox_daily'].notnull()].cashbox_daily\n",
    "y = (y - y.mean()) / y.std()"
   ]
  },
  {
   "cell_type": "code",
   "execution_count": 403,
   "metadata": {},
   "outputs": [
    {
     "name": "stdout",
     "output_type": "stream",
     "text": [
      "0.14214809696999325 0.3097845515954967\n"
     ]
    }
   ],
   "source": [
    "X_train, X_test, y_train, y_test = train_test_split(X, y)\n",
    "\n",
    "lasso.fit(X_train, y_train)\n",
    "print(mse(y_test, lasso.predict(X_test)), mae(y_test, lasso.predict(X_test)))"
   ]
  },
  {
   "cell_type": "code",
   "execution_count": 404,
   "metadata": {},
   "outputs": [
    {
     "data": {
      "text/plain": [
       "array([ 0.7950587 ,  0.        ,  0.        ,  0.04516096,  0.05593081,\n",
       "       -0.        ,  0.        ,  0.01609916, -0.06898949])"
      ]
     },
     "execution_count": 404,
     "metadata": {},
     "output_type": "execute_result"
    }
   ],
   "source": [
    "lasso.fit(X, y)\n",
    "lasso.coef_"
   ]
  },
  {
   "cell_type": "code",
   "execution_count": 405,
   "metadata": {},
   "outputs": [
    {
     "data": {
      "text/plain": [
       "array([ 0.7949395 ,  0.        ,  0.        ,  0.09664327, -0.        ,\n",
       "        0.        ,  0.01323896, -0.07149039])"
      ]
     },
     "execution_count": 405,
     "metadata": {},
     "output_type": "execute_result"
    }
   ],
   "source": [
    "lasso.fit(X.drop(labels='value1', axis=1), y)\n",
    "lasso.coef_"
   ]
  },
  {
   "cell_type": "code",
   "execution_count": 406,
   "metadata": {},
   "outputs": [
    {
     "data": {
      "text/plain": [
       "array([ 0.79889328,  0.        ,  0.00198145,  0.09487306, -0.        ,\n",
       "        0.        ,  0.01836106, -0.0664145 ])"
      ]
     },
     "execution_count": 406,
     "metadata": {},
     "output_type": "execute_result"
    }
   ],
   "source": [
    "lasso.fit(X.drop(labels='value2', axis=1), y)\n",
    "lasso.coef_"
   ]
  },
  {
   "cell_type": "code",
   "execution_count": 407,
   "metadata": {},
   "outputs": [],
   "source": [
    "X.drop(labels=['cashbox_trend', 'value2', 'NEAR_Malls', 'NEAR_Business_centers'], axis=1, inplace=True)"
   ]
  },
  {
   "cell_type": "code",
   "execution_count": 408,
   "metadata": {},
   "outputs": [
    {
     "data": {
      "text/html": [
       "<div>\n",
       "<style scoped>\n",
       "    .dataframe tbody tr th:only-of-type {\n",
       "        vertical-align: middle;\n",
       "    }\n",
       "\n",
       "    .dataframe tbody tr th {\n",
       "        vertical-align: top;\n",
       "    }\n",
       "\n",
       "    .dataframe thead th {\n",
       "        text-align: right;\n",
       "    }\n",
       "</style>\n",
       "<table border=\"1\" class=\"dataframe\">\n",
       "  <thead>\n",
       "    <tr style=\"text-align: right;\">\n",
       "      <th></th>\n",
       "      <th>cashbox_MAX</th>\n",
       "      <th>hh_500</th>\n",
       "      <th>value1</th>\n",
       "      <th>NEAR_metro_rjd</th>\n",
       "      <th>NEAR_Stations</th>\n",
       "    </tr>\n",
       "  </thead>\n",
       "  <tbody>\n",
       "    <tr>\n",
       "      <th>0</th>\n",
       "      <td>1.494381</td>\n",
       "      <td>1.675132</td>\n",
       "      <td>1.290828</td>\n",
       "      <td>-0.132453</td>\n",
       "      <td>1.044805</td>\n",
       "    </tr>\n",
       "    <tr>\n",
       "      <th>2</th>\n",
       "      <td>1.212329</td>\n",
       "      <td>0.744297</td>\n",
       "      <td>1.307995</td>\n",
       "      <td>-0.132453</td>\n",
       "      <td>-0.940325</td>\n",
       "    </tr>\n",
       "    <tr>\n",
       "      <th>3</th>\n",
       "      <td>1.212329</td>\n",
       "      <td>1.443183</td>\n",
       "      <td>1.290828</td>\n",
       "      <td>-0.132453</td>\n",
       "      <td>-0.940325</td>\n",
       "    </tr>\n",
       "    <tr>\n",
       "      <th>4</th>\n",
       "      <td>0.366173</td>\n",
       "      <td>1.055299</td>\n",
       "      <td>1.239327</td>\n",
       "      <td>-0.132453</td>\n",
       "      <td>1.044805</td>\n",
       "    </tr>\n",
       "    <tr>\n",
       "      <th>6</th>\n",
       "      <td>-0.479983</td>\n",
       "      <td>1.678173</td>\n",
       "      <td>1.101992</td>\n",
       "      <td>-0.132453</td>\n",
       "      <td>1.044805</td>\n",
       "    </tr>\n",
       "  </tbody>\n",
       "</table>\n",
       "</div>"
      ],
      "text/plain": [
       "   cashbox_MAX    hh_500    value1  NEAR_metro_rjd  NEAR_Stations\n",
       "0     1.494381  1.675132  1.290828       -0.132453       1.044805\n",
       "2     1.212329  0.744297  1.307995       -0.132453      -0.940325\n",
       "3     1.212329  1.443183  1.290828       -0.132453      -0.940325\n",
       "4     0.366173  1.055299  1.239327       -0.132453       1.044805\n",
       "6    -0.479983  1.678173  1.101992       -0.132453       1.044805"
      ]
     },
     "execution_count": 408,
     "metadata": {},
     "output_type": "execute_result"
    }
   ],
   "source": [
    "X.head()"
   ]
  },
  {
   "cell_type": "code",
   "execution_count": 409,
   "metadata": {},
   "outputs": [],
   "source": [
    "from sklearn.linear_model import LinearRegression, Ridge, Lasso\n",
    "from sklearn.model_selection import train_test_split \n",
    "from sklearn.metrics import mean_absolute_error as mae, mean_squared_error as mse\n",
    "from sklearn.tree import ExtraTreeRegressor\n",
    "from sklearn.neighbors import KNeighborsRegressor\n",
    "from sklearn.tree import DecisionTreeRegressor\n",
    "\n",
    "\n",
    "def test_regressor(X, y, regressor):\n",
    "    mean_mse = 0\n",
    "    mean_mae = 0\n",
    "    for i in range(100):\n",
    "        X_train , X_test, y_train, y_test = train_test_split(X, y)\n",
    "        regressor.fit(X_train, y_train)\n",
    "        mean_mse += mse(y_test, regressor.predict(X_test))\n",
    "        mean_mae += mae(y_test, regressor.predict(X_test))\n",
    "    print('MSE = ', mean_mse/100)\n",
    "    print('MAE = ', mean_mae/100)\n",
    "\n",
    "\n",
    "def getBenchmark(X, y, lasso_coef=0.05):\n",
    "    lasso = Lasso(lasso_coef)\n",
    "    ridge = Ridge()\n",
    "    lin_reg = LinearRegression()\n",
    "    des_tree = DecisionTreeRegressor()\n",
    "    extra_tree = ExtraTreeRegressor()\n",
    "    knn = KNeighborsRegressor()\n",
    "    \n",
    "    \n",
    "    print('LinReg:')\n",
    "    test_regressor(X, y, lin_reg)\n",
    "    print('Lasso:')\n",
    "    test_regressor(X, y, lasso)\n",
    "    print('Ridge:')\n",
    "    test_regressor(X, y, ridge)\n",
    "    print('ExtraTree:')\n",
    "    test_regressor(X, y, extra_tree)\n",
    "    print('KNN:')\n",
    "    test_regressor(X, y, knn)\n",
    "    print('DesTree:')\n",
    "    test_regressor(X, y, des_tree)\n",
    "    "
   ]
  },
  {
   "cell_type": "code",
   "execution_count": null,
   "metadata": {},
   "outputs": [],
   "source": []
  },
  {
   "cell_type": "code",
   "execution_count": 456,
   "metadata": {},
   "outputs": [],
   "source": [
    "def getPredict(data, regressor, labels_to_delete, target_name):\n",
    "    X = data[data[target_name].notnull()].iloc[:, 5:18]\n",
    "    X.drop(labels=labels_to_delete, axis=1, inplace=True)\n",
    "    y = data[data[target_name].notnull()][target_name]\n",
    "\n",
    "    regressor.fit(X, y)\n",
    "    \n",
    "    df = data[data[target_name].isnull()].iloc[:, 5:18]\n",
    "    df['cashbox_MAX'] = 0\n",
    "    df.drop(labels=labels_to_delete, axis=1, inplace=True)\n",
    "    \n",
    "    arr = regressor.predict(df)\n",
    "    \n",
    "    forResult = data[data[target_name].isnull()]['ADDRESS']\n",
    "    indexes = [x for x in range(len(arr))]\n",
    "    forResult.index = indexes\n",
    "    result = {}\n",
    "    for i in range(len(arr)):\n",
    "        result[forResult.loc[i]] = arr[i]\n",
    "\n",
    "    return result"
   ]
  },
  {
   "cell_type": "code",
   "execution_count": 457,
   "metadata": {},
   "outputs": [
    {
     "data": {
      "text/plain": [
       "{'г.Калуга, Гагарина ул., 1': 0.04060296160984578,\n",
       " 'г.Калуга, Мичурина ул., 11': 0.19420493040719222,\n",
       " 'г.Калуга, Пушкина ул., 3 п.68': 0.057365657337339115,\n",
       " 'г.Калуга, Дзержинского ул., 38': 0.16822704922893195,\n",
       " 'г.Калуга, Гурьянова ул., 7': 0.4407016289184149,\n",
       " 'г.Калуга, Московская ул., 336А': 0.012077628402074936,\n",
       " 'г.Калуга, д.Шопино': 0.06830273896864725,\n",
       " 'г.Калуга, 40-летия Октября ул, 3': -0.2526299947932209,\n",
       " 'г.Калуга, Салтыкова-Щедрина ул, 74': -0.30555644308325824}"
      ]
     },
     "execution_count": 457,
     "metadata": {},
     "output_type": "execute_result"
    }
   ],
   "source": [
    "l = ['cashbox_trend', 'value2', 'NEAR_Malls', 'NEAR_Business_centers', 'POPULATION', 'macro_salary_avg_yearly',\\\n",
    "     'Postamat_trend']\n",
    "target = 'cashbox_daily'\n",
    "getPredict(data_kaluga, Ridge(), l, target)"
   ]
  },
  {
   "cell_type": "code",
   "execution_count": null,
   "metadata": {},
   "outputs": [],
   "source": []
  },
  {
   "cell_type": "code",
   "execution_count": null,
   "metadata": {},
   "outputs": [],
   "source": []
  }
 ],
 "metadata": {
  "kernelspec": {
   "display_name": "Python 3",
   "language": "python",
   "name": "python3"
  },
  "language_info": {
   "codemirror_mode": {
    "name": "ipython",
    "version": 3
   },
   "file_extension": ".py",
   "mimetype": "text/x-python",
   "name": "python",
   "nbconvert_exporter": "python",
   "pygments_lexer": "ipython3",
   "version": "3.7.1"
  }
 },
 "nbformat": 4,
 "nbformat_minor": 2
}
