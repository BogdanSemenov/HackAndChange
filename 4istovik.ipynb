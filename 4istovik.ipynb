{
 "cells": [
  {
   "cell_type": "code",
   "execution_count": 309,
   "metadata": {},
   "outputs": [],
   "source": [
    "import pandas as pd\n",
    "\n",
    "data = pd.read_excel('data_set.xlsx')"
   ]
  },
  {
   "cell_type": "code",
   "execution_count": 310,
   "metadata": {},
   "outputs": [],
   "source": [
    "def replace_binary_value(b):\n",
    "    if b and pd.notnull(b):\n",
    "        return 1\n",
    "    else:\n",
    "        return -1\n",
    "\n",
    "data.iloc[:, 12:16] = data.iloc[:, 12:16].agg(lambda row: row.agg(replace_binary_value, axis=0), axis=1)\n",
    "\n",
    "data_kal_obl = data[data['REGION'] == 'Калужская область']\n",
    "data_tul_obl = data[data['REGION'] == 'Тульская область']"
   ]
  },
  {
   "cell_type": "code",
   "execution_count": 311,
   "metadata": {},
   "outputs": [],
   "source": [
    "import seaborn as sns\n",
    "\n",
    "#sns.pairplot(data_kal_obl.iloc[:, 3:17])"
   ]
  },
  {
   "cell_type": "code",
   "execution_count": 312,
   "metadata": {},
   "outputs": [],
   "source": [
    "data_kaluga = data_kal_obl[data_kal_obl['CITY'] == 'КАЛУГА']\n",
    "data_tula = data_tul_obl[data_tul_obl['CITY'] == 'ТУЛА']\n",
    "data_kal_obl = data_kal_obl[data_kal_obl['CITY'] != 'КАЛУГА']\n",
    "data_tul_obl = data_tul_obl[data_tul_obl['CITY'] != 'ТУЛА']"
   ]
  },
  {
   "cell_type": "code",
   "execution_count": 313,
   "metadata": {},
   "outputs": [],
   "source": [
    "X = data_kaluga[data_kaluga['cashbox_daily'].notnull()].iloc[:, 6:18]"
   ]
  },
  {
   "cell_type": "code",
   "execution_count": 314,
   "metadata": {},
   "outputs": [
    {
     "name": "stdout",
     "output_type": "stream",
     "text": [
      "<class 'pandas.core.frame.DataFrame'>\n",
      "Int64Index: 57 entries, 0 to 239\n",
      "Data columns (total 11 columns):\n",
      "cashbox_MAX                57 non-null float64\n",
      "cashbox_trend              55 non-null float64\n",
      "hh_500                     57 non-null float64\n",
      "value1                     57 non-null int64\n",
      "value2                     57 non-null int64\n",
      "POPULATION                 57 non-null int64\n",
      "NEAR_Malls                 57 non-null int64\n",
      "NEAR_Business_centers      57 non-null int64\n",
      "NEAR_metro_rjd             57 non-null int64\n",
      "NEAR_Stations              57 non-null int64\n",
      "macro_salary_avg_yearly    57 non-null int64\n",
      "dtypes: float64(3), int64(8)\n",
      "memory usage: 5.3 KB\n"
     ]
    }
   ],
   "source": [
    "X.info()"
   ]
  },
  {
   "cell_type": "code",
   "execution_count": 315,
   "metadata": {},
   "outputs": [],
   "source": [
    "del X['POPULATION']\n",
    "del X['macro_salary_avg_yearly']"
   ]
  },
  {
   "cell_type": "code",
   "execution_count": 316,
   "metadata": {},
   "outputs": [],
   "source": [
    "import numpy as np\n",
    "\n",
    "X.fillna(0, inplace=True)\n",
    "X = (X - X.mean()) / X.std()"
   ]
  },
  {
   "cell_type": "code",
   "execution_count": 317,
   "metadata": {},
   "outputs": [],
   "source": [
    "from sklearn.linear_model import LinearRegression, Ridge, Lasso\n",
    "from sklearn.model_selection import train_test_split \n",
    "from sklearn.metrics import mean_absolute_error as mae, mean_squared_error as mse\n",
    "\n",
    "lasso = Lasso(0.05)\n",
    "ridge = Ridge()\n",
    "lin_reg = LinearRegression()"
   ]
  },
  {
   "cell_type": "code",
   "execution_count": 318,
   "metadata": {},
   "outputs": [],
   "source": [
    "y = data_kaluga[data_kaluga['cashbox_daily'].notnull()].cashbox_daily\n",
    "y = (y - y.mean()) / y.std()"
   ]
  },
  {
   "cell_type": "code",
   "execution_count": 319,
   "metadata": {},
   "outputs": [
    {
     "name": "stdout",
     "output_type": "stream",
     "text": [
      "0.16024551166537843 0.3252978567701648\n"
     ]
    }
   ],
   "source": [
    "X_train, X_test, y_train, y_test = train_test_split(X, y)\n",
    "\n",
    "lasso.fit(X_train, y_train)\n",
    "print(mse(y_test, lasso.predict(X_test)), mae(y_test, lasso.predict(X_test)))"
   ]
  },
  {
   "cell_type": "code",
   "execution_count": 320,
   "metadata": {},
   "outputs": [
    {
     "data": {
      "text/plain": [
       "array([ 0.7950587 ,  0.        ,  0.        ,  0.04516096,  0.05593081,\n",
       "       -0.        ,  0.        ,  0.01609916, -0.06898949])"
      ]
     },
     "execution_count": 320,
     "metadata": {},
     "output_type": "execute_result"
    }
   ],
   "source": [
    "lasso.fit(X, y)\n",
    "lasso.coef_"
   ]
  },
  {
   "cell_type": "code",
   "execution_count": 321,
   "metadata": {},
   "outputs": [
    {
     "data": {
      "text/plain": [
       "array([ 0.7949395 ,  0.        ,  0.        ,  0.09664327, -0.        ,\n",
       "        0.        ,  0.01323896, -0.07149039])"
      ]
     },
     "execution_count": 321,
     "metadata": {},
     "output_type": "execute_result"
    }
   ],
   "source": [
    "lasso.fit(X.drop(labels='value1', axis=1), y)\n",
    "lasso.coef_"
   ]
  },
  {
   "cell_type": "code",
   "execution_count": 322,
   "metadata": {},
   "outputs": [
    {
     "data": {
      "text/plain": [
       "array([ 0.79889328,  0.        ,  0.00198145,  0.09487306, -0.        ,\n",
       "        0.        ,  0.01836106, -0.0664145 ])"
      ]
     },
     "execution_count": 322,
     "metadata": {},
     "output_type": "execute_result"
    }
   ],
   "source": [
    "lasso.fit(X.drop(labels='value2', axis=1), y)\n",
    "lasso.coef_"
   ]
  },
  {
   "cell_type": "code",
   "execution_count": 323,
   "metadata": {},
   "outputs": [],
   "source": [
    "X.drop(labels=['cashbox_trend', 'value2', 'NEAR_Malls', 'NEAR_Business_centers'], axis=1, inplace=True)"
   ]
  },
  {
   "cell_type": "code",
   "execution_count": 324,
   "metadata": {},
   "outputs": [
    {
     "data": {
      "text/html": [
       "<div>\n",
       "<style scoped>\n",
       "    .dataframe tbody tr th:only-of-type {\n",
       "        vertical-align: middle;\n",
       "    }\n",
       "\n",
       "    .dataframe tbody tr th {\n",
       "        vertical-align: top;\n",
       "    }\n",
       "\n",
       "    .dataframe thead th {\n",
       "        text-align: right;\n",
       "    }\n",
       "</style>\n",
       "<table border=\"1\" class=\"dataframe\">\n",
       "  <thead>\n",
       "    <tr style=\"text-align: right;\">\n",
       "      <th></th>\n",
       "      <th>cashbox_MAX</th>\n",
       "      <th>hh_500</th>\n",
       "      <th>value1</th>\n",
       "      <th>NEAR_metro_rjd</th>\n",
       "      <th>NEAR_Stations</th>\n",
       "    </tr>\n",
       "  </thead>\n",
       "  <tbody>\n",
       "    <tr>\n",
       "      <th>0</th>\n",
       "      <td>1.494381</td>\n",
       "      <td>1.675132</td>\n",
       "      <td>1.290828</td>\n",
       "      <td>-0.132453</td>\n",
       "      <td>1.044805</td>\n",
       "    </tr>\n",
       "    <tr>\n",
       "      <th>2</th>\n",
       "      <td>1.212329</td>\n",
       "      <td>0.744297</td>\n",
       "      <td>1.307995</td>\n",
       "      <td>-0.132453</td>\n",
       "      <td>-0.940325</td>\n",
       "    </tr>\n",
       "    <tr>\n",
       "      <th>3</th>\n",
       "      <td>1.212329</td>\n",
       "      <td>1.443183</td>\n",
       "      <td>1.290828</td>\n",
       "      <td>-0.132453</td>\n",
       "      <td>-0.940325</td>\n",
       "    </tr>\n",
       "    <tr>\n",
       "      <th>4</th>\n",
       "      <td>0.366173</td>\n",
       "      <td>1.055299</td>\n",
       "      <td>1.239327</td>\n",
       "      <td>-0.132453</td>\n",
       "      <td>1.044805</td>\n",
       "    </tr>\n",
       "    <tr>\n",
       "      <th>6</th>\n",
       "      <td>-0.479983</td>\n",
       "      <td>1.678173</td>\n",
       "      <td>1.101992</td>\n",
       "      <td>-0.132453</td>\n",
       "      <td>1.044805</td>\n",
       "    </tr>\n",
       "  </tbody>\n",
       "</table>\n",
       "</div>"
      ],
      "text/plain": [
       "   cashbox_MAX    hh_500    value1  NEAR_metro_rjd  NEAR_Stations\n",
       "0     1.494381  1.675132  1.290828       -0.132453       1.044805\n",
       "2     1.212329  0.744297  1.307995       -0.132453      -0.940325\n",
       "3     1.212329  1.443183  1.290828       -0.132453      -0.940325\n",
       "4     0.366173  1.055299  1.239327       -0.132453       1.044805\n",
       "6    -0.479983  1.678173  1.101992       -0.132453       1.044805"
      ]
     },
     "execution_count": 324,
     "metadata": {},
     "output_type": "execute_result"
    }
   ],
   "source": [
    "X.head()"
   ]
  },
  {
   "cell_type": "code",
   "execution_count": 325,
   "metadata": {},
   "outputs": [],
   "source": [
    "def test_regressor(X, y, regressor):\n",
    "    mean_mse = 0\n",
    "    mean_mae = 0\n",
    "    \n",
    "    for i in range(100):\n",
    "        X_train , X_test, y_train, y_test = train_test_split(X, y)\n",
    "        regressor.fit(X_train, y_train)\n",
    "        mean_mse += mse(y_test, regressor.predict(X_test))\n",
    "        mean_mae += mae(y_test, regressor.predict(X_test))\n",
    "        \n",
    "    print('MSE = ', mean_mse/100)\n",
    "    print('MAE = ', mean_mae/100)"
   ]
  },
  {
   "cell_type": "code",
   "execution_count": 326,
   "metadata": {},
   "outputs": [
    {
     "name": "stdout",
     "output_type": "stream",
     "text": [
      "LinReg:\n",
      "MSE =  0.24347470746358676\n",
      "MAE =  0.38496679786276344\n",
      "Lasso:\n",
      "MSE =  0.23463223531453262\n",
      "MAE =  0.38075487736347896\n",
      "Ridge:\n",
      "MSE =  0.2313854768985617\n",
      "MAE =  0.37670062304120777\n"
     ]
    }
   ],
   "source": [
    "print('LinReg:')\n",
    "test_regressor(X, y, lin_reg)\n",
    "\n",
    "print('Lasso:')\n",
    "test_regressor(X, y, lasso)\n",
    "\n",
    "print('Ridge:')\n",
    "test_regressor(X, y, ridge)"
   ]
  },
  {
   "cell_type": "code",
   "execution_count": 327,
   "metadata": {},
   "outputs": [
    {
     "name": "stdout",
     "output_type": "stream",
     "text": [
      "DesTree:\n",
      "MSE =  0.4265439014459107\n",
      "MAE =  0.4918268477058195\n"
     ]
    }
   ],
   "source": [
    "from sklearn.tree import DecisionTreeRegressor\n",
    "\n",
    "des_tree = DecisionTreeRegressor()\n",
    "\n",
    "print('DesTree:')\n",
    "test_regressor(X, y, des_tree)"
   ]
  },
  {
   "cell_type": "code",
   "execution_count": 328,
   "metadata": {},
   "outputs": [
    {
     "name": "stdout",
     "output_type": "stream",
     "text": [
      "ExtraTree:\n",
      "MSE =  0.5051163225879114\n",
      "MAE =  0.5286707460835273\n"
     ]
    }
   ],
   "source": [
    "from sklearn.tree import ExtraTreeRegressor\n",
    "\n",
    "extra_tree = ExtraTreeRegressor()\n",
    "\n",
    "print('ExtraTree:')\n",
    "test_regressor(X, y, extra_tree)"
   ]
  },
  {
   "cell_type": "code",
   "execution_count": 329,
   "metadata": {},
   "outputs": [
    {
     "name": "stdout",
     "output_type": "stream",
     "text": [
      "KNN::\n",
      "MSE =  0.34381647038439234\n",
      "MAE =  0.4462501614998645\n"
     ]
    }
   ],
   "source": [
    "from sklearn.neighbors import KNeighborsRegressor\n",
    "\n",
    "knn = KNeighborsRegressor()\n",
    "\n",
    "print('KNN::')\n",
    "test_regressor(X, y, knn)"
   ]
  },
  {
   "cell_type": "code",
   "execution_count": 330,
   "metadata": {},
   "outputs": [],
   "source": [
    "def getPredict(data, regressor):\n",
    "    X = data[data['cashbox_daily'].notnull()].iloc[:, 6:18]\n",
    "    X.drop(labels=['cashbox_trend', 'value2', 'NEAR_Malls',\\\n",
    "                   'NEAR_Business_centers', 'POPULATION', 'macro_salary_avg_yearly'], axis=1, inplace=True)\n",
    "    y = data[data['cashbox_daily'].notnull()].cashbox_daily\n",
    "\n",
    "    city_regressor = regressor()\n",
    "    city_regressor.fit(X, y)\n",
    "    \n",
    "    df = data[data['cashbox_daily'].isnull()].iloc[:, 6:18]\n",
    "    df['cashbox_MAX'] = 0\n",
    "    df.drop(labels=['cashbox_trend', 'value2', 'NEAR_Malls',\\\n",
    "                    'NEAR_Business_centers', 'POPULATION', 'macro_salary_avg_yearly'], axis=1, inplace=True)\n",
    "\n",
    "    return city_regressor.predict(df)"
   ]
  },
  {
   "cell_type": "code",
   "execution_count": 334,
   "metadata": {},
   "outputs": [
    {
     "data": {
      "text/plain": [
       "array([ 0.04060296,  0.19420493,  0.05736566,  0.16822705,  0.44070163,\n",
       "        0.01207763,  0.06830274, -0.25262999, -0.30555644])"
      ]
     },
     "execution_count": 334,
     "metadata": {},
     "output_type": "execute_result"
    }
   ],
   "source": [
    "getPredict(data_kaluga, Ridge)"
   ]
  },
  {
   "cell_type": "code",
   "execution_count": null,
   "metadata": {},
   "outputs": [],
   "source": []
  }
 ],
 "metadata": {
  "kernelspec": {
   "display_name": "Python 3",
   "language": "python",
   "name": "python3"
  },
  "language_info": {
   "codemirror_mode": {
    "name": "ipython",
    "version": 3
   },
   "file_extension": ".py",
   "mimetype": "text/x-python",
   "name": "python",
   "nbconvert_exporter": "python",
   "pygments_lexer": "ipython3",
   "version": "3.7.1"
  }
 },
 "nbformat": 4,
 "nbformat_minor": 2
}
