{
 "cells": [
  {
   "cell_type": "code",
   "execution_count": 237,
   "metadata": {},
   "outputs": [],
   "source": [
    "import pandas as pd\n",
    "\n",
    "data = pd.read_excel('data_set.xlsx')\n",
    "\n",
    "def replace_binary_value(b):\n",
    "    if b and pd.notnull(b):\n",
    "        return 1\n",
    "    else:\n",
    "        return -1\n",
    "\n",
    "\n",
    "data.iloc[:, 12:16] = data.iloc[:, 12:16].agg(lambda row: row.agg(replace_binary_value, axis=0), axis=1)\n",
    "data_tul_obl = data[data['REGION'] == 'Тульская область']\n",
    "\n",
    "data_tula = data_tul_obl[data_tul_obl['CITY'] == 'ТУЛА']\n",
    "\n",
    "X = data_tula[data_tula['Postamat_daily'].notnull()].iloc[:, 5:18]\n",
    "\n",
    "del X['cashbox_trend']\n",
    "del X['POPULATION']\n",
    "del X['macro_salary_avg_yearly']\n",
    "\n",
    "\n",
    "y = data_tula[data_tula['Postamat_daily'].notnull()].Postamat_daily\n",
    "y = (y - y.mean()) / y.std()\n",
    "\n",
    "X.fillna(0, inplace=True)\n",
    "X = (X - X.mean()) / X.std()\n",
    "\n",
    "\n"
   ]
  },
  {
   "cell_type": "code",
   "execution_count": 238,
   "metadata": {},
   "outputs": [
    {
     "name": "stdout",
     "output_type": "stream",
     "text": [
      "<class 'pandas.core.frame.DataFrame'>\n",
      "Int64Index: 26 entries, 8 to 249\n",
      "Data columns (total 9 columns):\n",
      "Postamat_trend           26 non-null float64\n",
      "cashbox_MAX              26 non-null float64\n",
      "hh_500                   26 non-null float64\n",
      "value1                   26 non-null float64\n",
      "value2                   26 non-null float64\n",
      "NEAR_Malls               26 non-null float64\n",
      "NEAR_Business_centers    26 non-null float64\n",
      "NEAR_metro_rjd           26 non-null float64\n",
      "NEAR_Stations            26 non-null float64\n",
      "dtypes: float64(9)\n",
      "memory usage: 2.0 KB\n"
     ]
    },
    {
     "data": {
      "text/plain": [
       "array([-0.        , -0.50334116,  0.23572687,  0.        , -0.05642533,\n",
       "        1.08186438, -0.24518251, -0.43567001,  0.05688665])"
      ]
     },
     "execution_count": 238,
     "metadata": {},
     "output_type": "execute_result"
    }
   ],
   "source": [
    "from sklearn.linear_model import LinearRegression, Ridge, Lasso\n",
    "from sklearn.model_selection import train_test_split \n",
    "from sklearn.metrics import mean_absolute_error as mae, mean_squared_error as mse\n",
    "\n",
    "lasso = Lasso(0.005)\n",
    "\n",
    "X_train, X_test, y_train, y_test = train_test_split(X, y)\n",
    "X.info()\n",
    "\n",
    "lasso.fit(X, y)\n",
    "lasso.coef_"
   ]
  },
  {
   "cell_type": "code",
   "execution_count": 239,
   "metadata": {},
   "outputs": [
    {
     "data": {
      "text/plain": [
       "array([-0.50333272,  0.23573013, -0.0564297 ,  1.08186865, -0.24519041,\n",
       "       -0.43567209,  0.05688678])"
      ]
     },
     "execution_count": 239,
     "metadata": {},
     "output_type": "execute_result"
    }
   ],
   "source": [
    "X.drop(labels=['Postamat_trend', 'value1'], axis=1, inplace=True)\n",
    "lasso.fit(X, y)\n",
    "lasso.coef_"
   ]
  },
  {
   "cell_type": "code",
   "execution_count": 240,
   "metadata": {},
   "outputs": [],
   "source": [
    "from sklearn.linear_model import LinearRegression, Ridge, Lasso\n",
    "from sklearn.model_selection import train_test_split \n",
    "from sklearn.metrics import mean_absolute_error as mae, mean_squared_error as mse\n",
    "from sklearn.tree import ExtraTreeRegressor\n",
    "from sklearn.neighbors import KNeighborsRegressor\n",
    "from sklearn.tree import DecisionTreeRegressor\n",
    "\n",
    "\n",
    "def test_regressor(X, y, regressor):\n",
    "    mean_mse = 0\n",
    "    mean_mae = 0\n",
    "    for i in range(100):\n",
    "        X_train , X_test, y_train, y_test = train_test_split(X, y)\n",
    "        regressor.fit(X_train, y_train)\n",
    "        mean_mse += mse(y_test, regressor.predict(X_test))\n",
    "        mean_mae += mae(y_test, regressor.predict(X_test))\n",
    "    print('MSE = ', mean_mse/100)\n",
    "    print('MAE = ', mean_mae/100)\n",
    "\n",
    "\n",
    "def getBenchmark(X, y, lasso_coef=0.05):\n",
    "    lasso = Lasso(lasso_coef)\n",
    "    ridge = Ridge()\n",
    "    lin_reg = LinearRegression()\n",
    "    des_tree = DecisionTreeRegressor()\n",
    "    extra_tree = ExtraTreeRegressor()\n",
    "    knn = KNeighborsRegressor()\n",
    "    \n",
    "    \n",
    "    print('LinReg:')\n",
    "    test_regressor(X, y, lin_reg)\n",
    "    print('Lasso:')\n",
    "    test_regressor(X, y, lasso)\n",
    "    print('Ridge:')\n",
    "    test_regressor(X, y, ridge)\n",
    "    print('ExtraTree:')\n",
    "    test_regressor(X, y, extra_tree)\n",
    "    print('KNN:')\n",
    "    test_regressor(X, y, knn)\n",
    "    print('DesTree:')\n",
    "    test_regressor(X, y, des_tree)"
   ]
  },
  {
   "cell_type": "code",
   "execution_count": 241,
   "metadata": {},
   "outputs": [
    {
     "name": "stdout",
     "output_type": "stream",
     "text": [
      "LinReg:\n",
      "MSE =  1.0378043167662816\n",
      "MAE =  0.8052508734569842\n",
      "Lasso:\n",
      "MSE =  1.2078763885986055\n",
      "MAE =  0.8726693359515226\n",
      "Ridge:\n",
      "MSE =  1.007520271743893\n",
      "MAE =  0.7963248477498145\n",
      "ExtraTree:\n",
      "MSE =  1.69709296019091\n",
      "MAE =  1.0527887586165967\n",
      "KNN:\n",
      "MSE =  1.0524937628810072\n",
      "MAE =  0.7858280247824547\n",
      "DesTree:\n",
      "MSE =  1.7986224102397224\n",
      "MAE =  1.0628248764299106\n"
     ]
    }
   ],
   "source": [
    "getBenchmark(X, y, 0.005)"
   ]
  },
  {
   "cell_type": "code",
   "execution_count": 253,
   "metadata": {},
   "outputs": [],
   "source": [
    "def getPredict(data, regressor, labels_to_delete, target_name):\n",
    "    X = data[data[target_name].notnull()].iloc[:, 5:18]\n",
    "    X.drop(labels=labels_to_delete, axis=1, inplace=True)\n",
    "    y = data[data[target_name].notnull()][target_name]\n",
    "    regressor.fit(X, y)\n",
    "\n",
    "    df = data[data[target_name].isnull()].iloc[:, 5:18]\n",
    "    df.drop(labels=labels_to_delete, axis=1, inplace=True)\n",
    "    arr = regressor.predict(df)\n",
    "    \n",
    "    forResult = data[data[target_name].isnull()]['ADDRESS']\n",
    "    indexes = [x for x in range(len(arr))]\n",
    "    forResult.index = indexes\n",
    "    result = {}\n",
    "    for i in range(len(arr)):\n",
    "        result[forResult.loc[i]] = arr[i]\n",
    "\n",
    "    return result"
   ]
  },
  {
   "cell_type": "code",
   "execution_count": 254,
   "metadata": {},
   "outputs": [
    {
     "name": "stderr",
     "output_type": "stream",
     "text": [
      "C:\\ProgramData\\Anaconda3\\lib\\site-packages\\ipykernel_launcher.py:3: SettingWithCopyWarning: \n",
      "A value is trying to be set on a copy of a slice from a DataFrame.\n",
      "Try using .loc[row_indexer,col_indexer] = value instead\n",
      "\n",
      "See the caveats in the documentation: http://pandas.pydata.org/pandas-docs/stable/indexing.html#indexing-view-versus-copy\n",
      "  This is separate from the ipykernel package so we can avoid doing imports until\n"
     ]
    },
    {
     "data": {
      "text/plain": [
       "{'г.Тула, Кутузова ул., 13': 5.470818759440553,\n",
       " 'г.Тула, Степанова ул., 89 А': 5.600541813540753,\n",
       " 'г.Тула, Пузакова ул., 1': 3.2359171474978043,\n",
       " 'г.Тула, Болдина ул., 98': 3.3058142999072406,\n",
       " 'г.Тула, Макаренко ул., 9 Б': 5.512491738015392,\n",
       " 'г.Тула, Калужское ш., 2': 5.111588950416127,\n",
       " 'г.Тула, Октябрьская ул, 48 Б': 5.19503501379303,\n",
       " 'г.Тула, Советская ул, 72': 4.5334724851558725,\n",
       " 'г.Тула, Болдина ул': 5.076856653422588,\n",
       " 'г.Тула, Металлургов ул, 43': 2.8743715260615272,\n",
       " 'г.Тула, Металлургов 2-й пр-д, 3А': 2.854394388769326,\n",
       " 'г.Тула, Кутузова ул, 102': 2.6735798226943097,\n",
       " 'г.Тула, Демидовская ул., 68': 5.2812215792372115,\n",
       " 'г.Тула, Большая ул, 8А': 2.078232807908489,\n",
       " 'г.Тула, Городской пер., 54': 2.226751552114322,\n",
       " 'г.Тула, Калужское ш., 1': 4.978394460086321,\n",
       " 'г.Тула, Пушкина ул., 9': 2.405420360851686,\n",
       " 'г.Тула, Одоевское ш, 17А': 2.1722676004055725,\n",
       " 'г.Тула, Скуратовский мкр, 7': 2.116435272919181,\n",
       " 'г.Тула, Московская ул, 34': 0.2669345349635783,\n",
       " 'г.Тула, Серебровская ул., 16 В': 2.0007787382515483,\n",
       " 'г.Тула, Стадионный пр-д, 1': 1.8938200599251176,\n",
       " 'г.Тула, Бондаренко ул, 35А': 2.20332622317749,\n",
       " 'г.Тула, Ленина пр-кт, 138 п295,п296': 2.3052668767810442,\n",
       " 'г.Тула, Немцова ул, 12': 2.41092332021968,\n",
       " 'г.Тула, Максимовского ул, 15 п.2': 2.30722310975846,\n",
       " 'г.Тула, Машинистов ул': 1.9408552730780833,\n",
       " 'г.Тула, Маршала Жукова ул, 2': 2.0115742011758493,\n",
       " 'г.Тула, Новомосковское ш., 60А': 1.7144155289576992,\n",
       " 'г.Тула, Одоевское ш': 2.0589024425159335,\n",
       " 'г.Тула, 2-й Гастелло пр-д, 17 к.1': 1.907390047699208,\n",
       " 'г.Тула, Жуковского ул, 80': 1.9047280394395991,\n",
       " 'г.Тула, Макаренко ул, 19 к.2,п.1': 2.0340722442385104,\n",
       " 'г.Тула, Щекинское ш, 26А': 1.5860990057826898}"
      ]
     },
     "execution_count": 254,
     "metadata": {},
     "output_type": "execute_result"
    }
   ],
   "source": [
    "l = ['Postamat_trend', 'value1', 'cashbox_trend',\\\n",
    "     'POPULATION', 'macro_salary_avg_yearly']\n",
    "data_tula['cashbox_MAX'] = 0\n",
    "target = 'Postamat_daily'\n",
    "getPredict(data_tula, Ridge(), l, target)"
   ]
  },
  {
   "cell_type": "code",
   "execution_count": null,
   "metadata": {},
   "outputs": [],
   "source": []
  }
 ],
 "metadata": {
  "kernelspec": {
   "display_name": "Python 3",
   "language": "python",
   "name": "python3"
  },
  "language_info": {
   "codemirror_mode": {
    "name": "ipython",
    "version": 3
   },
   "file_extension": ".py",
   "mimetype": "text/x-python",
   "name": "python",
   "nbconvert_exporter": "python",
   "pygments_lexer": "ipython3",
   "version": "3.7.1"
  }
 },
 "nbformat": 4,
 "nbformat_minor": 2
}
