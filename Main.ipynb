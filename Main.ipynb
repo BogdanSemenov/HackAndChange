{
 "cells": [
  {
   "cell_type": "code",
   "execution_count": 89,
   "metadata": {},
   "outputs": [],
   "source": [
    "import numpy as np\n",
    "import pandas as pd\n",
    "\n",
    "ds = pd.read_excel('data_set.xlsx')\n"
   ]
  },
  {
   "cell_type": "code",
   "execution_count": 90,
   "metadata": {},
   "outputs": [],
   "source": [
    "arr = ds['ADDRESS'].unique()"
   ]
  },
  {
   "cell_type": "code",
   "execution_count": 91,
   "metadata": {},
   "outputs": [],
   "source": [
    "result = {}\n",
    "city = ''\n",
    "street = ''\n",
    "for address in arr:\n",
    "    buf = address.split(', ')\n",
    "    if len(buf) < 2:\n",
    "        continue\n",
    "    city = buf[0]\n",
    "    street = buf[1]\n",
    "    result[city] = set()\n",
    "\n",
    "for address in arr:\n",
    "    buf = address.split(', ')\n",
    "    if len(buf) < 2:\n",
    "        continue\n",
    "    city = buf[0]\n",
    "    street = buf[1]\n",
    "    result[city].add(street)\n",
    "    \n"
   ]
  },
  {
   "cell_type": "code",
   "execution_count": null,
   "metadata": {},
   "outputs": [],
   "source": []
  }
 ],
 "metadata": {
  "kernelspec": {
   "display_name": "Python 3",
   "language": "python",
   "name": "python3"
  },
  "language_info": {
   "codemirror_mode": {
    "name": "ipython",
    "version": 3
   },
   "file_extension": ".py",
   "mimetype": "text/x-python",
   "name": "python",
   "nbconvert_exporter": "python",
   "pygments_lexer": "ipython3",
   "version": "3.7.1"
  }
 },
 "nbformat": 4,
 "nbformat_minor": 2
}
